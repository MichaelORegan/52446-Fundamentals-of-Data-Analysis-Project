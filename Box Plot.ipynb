{
 "cells": [
  {
   "cell_type": "markdown",
   "metadata": {},
   "source": [
    "# The Box Plot\n"
   ]
  },
  {
   "cell_type": "markdown",
   "metadata": {},
   "source": [
    "## History of the Box Plot\n",
    "\n"
   ]
  },
  {
   "cell_type": "markdown",
   "metadata": {},
   "source": [
    "John Tukey (June 16, 1915 – July 26, 2000)"
   ]
  },
  {
   "cell_type": "markdown",
   "metadata": {},
   "source": [
    "![John Tukey](John_Tukey.jpg)"
   ]
  },
  {
   "cell_type": "markdown",
   "metadata": {},
   "source": [
    "The box plot was invented by John Tukey.  John Tukey was a mathematician and professor in Princeton University.\n",
    "\n",
    "He introduced this type of visual data display in 1969 and later in his 1977 book \"Exploratory Data Analysis\".\n",
    "\n",
    "It was a way of visually representing the data.  As part of this visual display the data is summarised in an easily recognised visual way.\n",
    "\n",
    "We will show examples of the box plot below but here is a brief description of the box plot and the summary statistics that can be shown on the plot. \n",
    "\n",
    "The box plot, also know as a box and whisker plot, is a box with the horizontal lines of the box at the 2nd and 3rd quartiles.  It shows the median as a horizontal line on the box.  The whiskers come out of the box extending down to minimum and a maximum value.  You can also show outliers above or below the whiskers as the need arises.\n",
    "\n"
   ]
  },
  {
   "cell_type": "code",
   "execution_count": null,
   "metadata": {},
   "outputs": [],
   "source": []
  },
  {
   "cell_type": "code",
   "execution_count": null,
   "metadata": {},
   "outputs": [],
   "source": []
  },
  {
   "cell_type": "code",
   "execution_count": null,
   "metadata": {},
   "outputs": [],
   "source": []
  },
  {
   "cell_type": "code",
   "execution_count": null,
   "metadata": {},
   "outputs": [],
   "source": []
  },
  {
   "cell_type": "code",
   "execution_count": null,
   "metadata": {},
   "outputs": [],
   "source": []
  },
  {
   "cell_type": "code",
   "execution_count": null,
   "metadata": {},
   "outputs": [],
   "source": []
  },
  {
   "cell_type": "code",
   "execution_count": null,
   "metadata": {},
   "outputs": [],
   "source": []
  },
  {
   "cell_type": "markdown",
   "metadata": {},
   "source": [
    "https://en.wikipedia.org/wiki/Box_plot\n",
    "\n",
    "https://en.wikipedia.org/wiki/John_Tukey\n",
    "\n",
    "https://pr.princeton.edu/news/00/q3/0727-tukey.htm\n",
    "\n",
    "https://csml.princeton.edu/tukey\n",
    "\n"
   ]
  },
  {
   "cell_type": "code",
   "execution_count": null,
   "metadata": {},
   "outputs": [],
   "source": []
  }
 ],
 "metadata": {
  "kernelspec": {
   "display_name": "Python 3",
   "language": "python",
   "name": "python3"
  },
  "language_info": {
   "codemirror_mode": {
    "name": "ipython",
    "version": 3
   },
   "file_extension": ".py",
   "mimetype": "text/x-python",
   "name": "python",
   "nbconvert_exporter": "python",
   "pygments_lexer": "ipython3",
   "version": "3.7.0"
  }
 },
 "nbformat": 4,
 "nbformat_minor": 2
}
